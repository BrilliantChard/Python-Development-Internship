{
  "nbformat": 4,
  "nbformat_minor": 0,
  "metadata": {
    "colab": {
      "provenance": [],
      "authorship_tag": "ABX9TyP3/LFZbfEKpUiZyQgPpDaN",
      "include_colab_link": true
    },
    "kernelspec": {
      "name": "python3",
      "display_name": "Python 3"
    },
    "language_info": {
      "name": "python"
    }
  },
  "cells": [
    {
      "cell_type": "markdown",
      "metadata": {
        "id": "view-in-github",
        "colab_type": "text"
      },
      "source": [
        "<a href=\"https://colab.research.google.com/github/BrilliantChard/To-Do-List-Application/blob/main/To_Do_List_Application.ipynb\" target=\"_parent\"><img src=\"https://colab.research.google.com/assets/colab-badge.svg\" alt=\"Open In Colab\"/></a>"
      ]
    },
    {
      "cell_type": "code",
      "execution_count": 1,
      "metadata": {
        "id": "k4IQtfowTuLq"
      },
      "outputs": [],
      "source": [
        "name = 'Chard'"
      ]
    },
    {
      "cell_type": "code",
      "source": [
        "print(f'Hello {name}')"
      ],
      "metadata": {
        "id": "sysVtrLzT-Nf",
        "outputId": "1fbd8694-4562-41f8-f666-45effb505781",
        "colab": {
          "base_uri": "https://localhost:8080/"
        }
      },
      "execution_count": 2,
      "outputs": [
        {
          "output_type": "stream",
          "name": "stdout",
          "text": [
            "Hello Chard\n"
          ]
        }
      ]
    },
    {
      "cell_type": "code",
      "source": [
        "def to_do_list():\n",
        "  tasks = []\n",
        "\n",
        "  print('Welcome to my TO DO LIST APP')\n",
        "\n",
        "  while True:\n",
        "\n",
        "    print(\"Select one of the following options\")\n",
        "\n",
        "    print('-' * 80)\n",
        "\n",
        "    print(\"1. Add task\")\n",
        "    print(\"2. Remove task\")\n",
        "    print(\"3. Show tasks\")\n",
        "    print('4. Quit!')\n",
        "\n",
        "    choice = input('Enter your choice: \\n')\n",
        "\n",
        "    if choice == '1':\n",
        "      task = input(\"Enter task: \\n\")\n",
        "\n",
        "      tasks.append(task)\n",
        "\n",
        "    elif choice == '2':\n",
        "      task = input(\"Enter task to delete: \\n\")\n",
        "\n",
        "      if task in tasks:\n",
        "        tasks.remove(task)\n",
        "      else:\n",
        "        print(\"Task not found!\")\n",
        "\n",
        "    elif choice =='3':\n",
        "      print('Tasks: \\n')\n",
        "\n",
        "      for task in tasks:\n",
        "        print(f'- {task}')\n",
        "\n",
        "    elif choice == '4':\n",
        "      print('Goodbye, Happy Coding!', name)\n",
        "      break\n",
        "\n",
        "    else:\n",
        "      print('Invalid choice')\n",
        "\n",
        "to_do_list()"
      ],
      "metadata": {
        "id": "wua1PYvZUFpC",
        "outputId": "5949a875-0ba0-44d3-c789-962cba971637",
        "colab": {
          "base_uri": "https://localhost:8080/"
        }
      },
      "execution_count": 6,
      "outputs": [
        {
          "output_type": "stream",
          "name": "stdout",
          "text": [
            "1. Add task\n",
            "2. Remove task\n",
            "2. Show tasks\n",
            "Quit!\n",
            "Enter your choice: \n",
            "4\n",
            "Goodbye, Happy Coding! Chard\n"
          ]
        }
      ]
    },
    {
      "cell_type": "code",
      "source": [],
      "metadata": {
        "id": "tBRN5ell2xS4"
      },
      "execution_count": null,
      "outputs": []
    }
  ]
}